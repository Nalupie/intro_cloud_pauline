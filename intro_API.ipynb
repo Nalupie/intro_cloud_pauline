{
 "cells": [
  {
   "cell_type": "code",
   "execution_count": 5,
   "metadata": {},
   "outputs": [],
   "source": [
    "import credential as cr\n",
    "import requests\n",
    "import pandas as pd\n",
    "import json\n",
    "pd.set_option('display.max_columns', 500)\n",
    "# Set your Alpha Vantage API Key\n"
   ]
  },
  {
   "cell_type": "code",
   "execution_count": 3,
   "metadata": {},
   "outputs": [
    {
     "data": {
      "text/plain": [
       "'3BRO22T8T0S5VYTC'"
      ]
     },
     "execution_count": 3,
     "metadata": {},
     "output_type": "execute_result"
    }
   ],
   "source": [
    "cr.AV_API_Key"
   ]
  },
  {
   "cell_type": "code",
   "execution_count": 6,
   "metadata": {},
   "outputs": [
    {
     "data": {
      "text/html": [
       "<div>\n",
       "<style scoped>\n",
       "    .dataframe tbody tr th:only-of-type {\n",
       "        vertical-align: middle;\n",
       "    }\n",
       "\n",
       "    .dataframe tbody tr th {\n",
       "        vertical-align: top;\n",
       "    }\n",
       "\n",
       "    .dataframe thead th {\n",
       "        text-align: right;\n",
       "    }\n",
       "</style>\n",
       "<table border=\"1\" class=\"dataframe\">\n",
       "  <thead>\n",
       "    <tr style=\"text-align: right;\">\n",
       "      <th></th>\n",
       "      <th>bestMatches</th>\n",
       "    </tr>\n",
       "  </thead>\n",
       "  <tbody>\n",
       "    <tr>\n",
       "      <th>0</th>\n",
       "      <td>{'1. symbol': 'META', '2. name': 'Meta Platfor...</td>\n",
       "    </tr>\n",
       "    <tr>\n",
       "      <th>1</th>\n",
       "      <td>{'1. symbol': 'METAX', '2. name': 'ALPS METIS ...</td>\n",
       "    </tr>\n",
       "    <tr>\n",
       "      <th>2</th>\n",
       "      <td>{'1. symbol': 'META.LON', '2. name': 'WisdomTr...</td>\n",
       "    </tr>\n",
       "    <tr>\n",
       "      <th>3</th>\n",
       "      <td>{'1. symbol': 'METEX.PAR', '2. name': 'Metabol...</td>\n",
       "    </tr>\n",
       "    <tr>\n",
       "      <th>4</th>\n",
       "      <td>{'1. symbol': 'META11.SAO', '2. name': 'Hashde...</td>\n",
       "    </tr>\n",
       "    <tr>\n",
       "      <th>5</th>\n",
       "      <td>{'1. symbol': 'METALCO.BSE', '2. name': 'METAL...</td>\n",
       "    </tr>\n",
       "    <tr>\n",
       "      <th>6</th>\n",
       "      <td>{'1. symbol': 'M16.FRK', '2. name': 'METACON A...</td>\n",
       "    </tr>\n",
       "    <tr>\n",
       "      <th>7</th>\n",
       "      <td>{'1. symbol': 'METALFORGE.BSE', '2. name': 'Me...</td>\n",
       "    </tr>\n",
       "    <tr>\n",
       "      <th>8</th>\n",
       "      <td>{'1. symbol': '7ME.FRK', '2. name': 'METabolic...</td>\n",
       "    </tr>\n",
       "    <tr>\n",
       "      <th>9</th>\n",
       "      <td>{'1. symbol': 'MAV.FRK', '2. name': 'METADVERT...</td>\n",
       "    </tr>\n",
       "  </tbody>\n",
       "</table>\n",
       "</div>"
      ],
      "text/plain": [
       "                                         bestMatches\n",
       "0  {'1. symbol': 'META', '2. name': 'Meta Platfor...\n",
       "1  {'1. symbol': 'METAX', '2. name': 'ALPS METIS ...\n",
       "2  {'1. symbol': 'META.LON', '2. name': 'WisdomTr...\n",
       "3  {'1. symbol': 'METEX.PAR', '2. name': 'Metabol...\n",
       "4  {'1. symbol': 'META11.SAO', '2. name': 'Hashde...\n",
       "5  {'1. symbol': 'METALCO.BSE', '2. name': 'METAL...\n",
       "6  {'1. symbol': 'M16.FRK', '2. name': 'METACON A...\n",
       "7  {'1. symbol': 'METALFORGE.BSE', '2. name': 'Me...\n",
       "8  {'1. symbol': '7ME.FRK', '2. name': 'METabolic...\n",
       "9  {'1. symbol': 'MAV.FRK', '2. name': 'METADVERT..."
      ]
     },
     "metadata": {},
     "output_type": "display_data"
    }
   ],
   "source": [
    "search_keyword='meta'\n",
    "url = 'https://www.alphavantage.co/query?function=SYMBOL_SEARCH&keywords={searchKeyword}&apikey={apiKey}'.format(apiKey=cr.AV_API_Key, searchKeyword=search_keyword)\n",
    "r_search = requests.get(url)\n",
    "js_search = r_search.json()\n",
    "df_search=pd.DataFrame(js_search)\n",
    "display(df_search)"
   ]
  },
  {
   "cell_type": "code",
   "execution_count": 8,
   "metadata": {},
   "outputs": [
    {
     "data": {
      "text/plain": [
       "b'{\\n    \"bestMatches\": [\\n        {\\n            \"1. symbol\": \"META\",\\n            \"2. name\": \"Meta Platforms Inc - Class A\",\\n            \"3. type\": \"Equity\",\\n            \"4. region\": \"United States\",\\n            \"5. marketOpen\": \"09:30\",\\n            \"6. marketClose\": \"16:00\",\\n            \"7. timezone\": \"UTC-04\",\\n            \"8. currency\": \"USD\",\\n            \"9. matchScore\": \"1.0000\"\\n        },\\n        {\\n            \"1. symbol\": \"METAX\",\\n            \"2. name\": \"ALPS METIS GLOBAL MICRO CAP VALUE FUND INVESTOR SHARES\",\\n            \"3. type\": \"Mutual Fund\",\\n            \"4. region\": \"United States\",\\n            \"5. marketOpen\": \"09:30\",\\n            \"6. marketClose\": \"16:00\",\\n            \"7. timezone\": \"UTC-04\",\\n            \"8. currency\": \"USD\",\\n            \"9. matchScore\": \"0.8889\"\\n        },\\n        {\\n            \"1. symbol\": \"META.LON\",\\n            \"2. name\": \"WisdomTree Industrial Metals Enhanced\",\\n            \"3. type\": \"ETF\",\\n            \"4. region\": \"United Kingdom\",\\n            \"5. marketOpen\": \"08:00\",\\n            \"6. marketClose\": \"16:30\",\\n            \"7. timezone\": \"UTC+01\",\\n            \"8. currency\": \"USD\",\\n            \"9. matchScore\": \"0.8000\"\\n        },\\n        {\\n            \"1. symbol\": \"METEX.PAR\",\\n            \"2. name\": \"Metabolic Explorer SA\",\\n            \"3. type\": \"Equity\",\\n            \"4. region\": \"Paris\",\\n            \"5. marketOpen\": \"09:00\",\\n            \"6. marketClose\": \"17:30\",\\n            \"7. timezone\": \"UTC+02\",\\n            \"8. currency\": \"EUR\",\\n            \"9. matchScore\": \"0.6667\"\\n        },\\n        {\\n            \"1. symbol\": \"META11.SAO\",\\n            \"2. name\": \"Hashdex Crypto Metaverse Fundo De Indice\",\\n            \"3. type\": \"ETF\",\\n            \"4. region\": \"Brazil/Sao Paolo\",\\n            \"5. marketOpen\": \"10:00\",\\n            \"6. marketClose\": \"17:30\",\\n            \"7. timezone\": \"UTC-03\",\\n            \"8. currency\": \"BRL\",\\n            \"9. matchScore\": \"0.6154\"\\n        },\\n        {\\n            \"1. symbol\": \"METALCO.BSE\",\\n            \"2. name\": \"METAL COATINGS (INDIA) LTD.\",\\n            \"3. type\": \"Equity\",\\n            \"4. region\": \"India/Bombay\",\\n            \"5. marketOpen\": \"09:15\",\\n            \"6. marketClose\": \"15:30\",\\n            \"7. timezone\": \"UTC+5.5\",\\n            \"8. currency\": \"INR\",\\n            \"9. matchScore\": \"0.5714\"\\n        },\\n        {\\n            \"1. symbol\": \"M16.FRK\",\\n            \"2. name\": \"METACON AB B\",\\n            \"3. type\": \"Equity\",\\n            \"4. region\": \"Frankfurt\",\\n            \"5. marketOpen\": \"08:00\",\\n            \"6. marketClose\": \"20:00\",\\n            \"7. timezone\": \"UTC+02\",\\n            \"8. currency\": \"EUR\",\\n            \"9. matchScore\": \"0.5000\"\\n        },\\n        {\\n            \"1. symbol\": \"METALFORGE.BSE\",\\n            \"2. name\": \"Metalyst Forgings Limited\",\\n            \"3. type\": \"Equity\",\\n            \"4. region\": \"India/Bombay\",\\n            \"5. marketOpen\": \"09:15\",\\n            \"6. marketClose\": \"15:30\",\\n            \"7. timezone\": \"UTC+5.5\",\\n            \"8. currency\": \"INR\",\\n            \"9. matchScore\": \"0.4706\"\\n        },\\n        {\\n            \"1. symbol\": \"7ME.FRK\",\\n            \"2. name\": \"METabolic EXplorer S.A\",\\n            \"3. type\": \"Equity\",\\n            \"4. region\": \"Frankfurt\",\\n            \"5. marketOpen\": \"08:00\",\\n            \"6. marketClose\": \"20:00\",\\n            \"7. timezone\": \"UTC+02\",\\n            \"8. currency\": \"EUR\",\\n            \"9. matchScore\": \"0.4444\"\\n        },\\n        {\\n            \"1. symbol\": \"MAV.FRK\",\\n            \"2. name\": \"METADVERTISE EO-10\",\\n            \"3. type\": \"Equity\",\\n            \"4. region\": \"Frankfurt\",\\n            \"5. marketOpen\": \"08:00\",\\n            \"6. marketClose\": \"20:00\",\\n            \"7. timezone\": \"UTC+02\",\\n            \"8. currency\": \"EUR\",\\n            \"9. matchScore\": \"0.4444\"\\n        }\\n    ]\\n}'"
      ]
     },
     "execution_count": 8,
     "metadata": {},
     "output_type": "execute_result"
    }
   ],
   "source": [
    "r_search.content"
   ]
  },
  {
   "cell_type": "code",
   "execution_count": 11,
   "metadata": {},
   "outputs": [
    {
     "data": {
      "text/plain": [
       "200"
      ]
     },
     "execution_count": 11,
     "metadata": {},
     "output_type": "execute_result"
    }
   ],
   "source": [
    "r_search.status_code"
   ]
  },
  {
   "cell_type": "code",
   "execution_count": null,
   "metadata": {},
   "outputs": [],
   "source": []
  }
 ],
 "metadata": {
  "kernelspec": {
   "display_name": ".venv",
   "language": "python",
   "name": "python3"
  },
  "language_info": {
   "codemirror_mode": {
    "name": "ipython",
    "version": 3
   },
   "file_extension": ".py",
   "mimetype": "text/x-python",
   "name": "python",
   "nbconvert_exporter": "python",
   "pygments_lexer": "ipython3",
   "version": "3.12.6"
  }
 },
 "nbformat": 4,
 "nbformat_minor": 2
}
